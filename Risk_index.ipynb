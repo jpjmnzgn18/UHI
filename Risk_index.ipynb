{
 "cells": [
  {
   "cell_type": "code",
   "execution_count": 28,
   "id": "4960cc2e",
   "metadata": {},
   "outputs": [],
   "source": [
    "import arcpy\n",
    "arcpy.env.workspace = r\"I:\\GIS_Lab\\Final\"\n",
    "arcpy.env.overwriteOutput = True"
   ]
  },
  {
   "cell_type": "code",
   "execution_count": 29,
   "id": "8225ea79",
   "metadata": {},
   "outputs": [
    {
     "name": "stdout",
     "output_type": "stream",
     "text": [
      "The maximum value of the raster is: 338.69507942222\n"
     ]
    }
   ],
   "source": [
    "LST = arcpy.Raster(r\"I:\\GIS_Lab\\Final\\Shelby_County_LST_2017.tif\")\n",
    "raster_stats = arcpy.GetRasterProperties_management(LST, \"MAXIMUM\")\n",
    "MAX = float(raster_stats.getOutput(0))\n",
    "print(f\"The maximum value of the raster is: {MAX}\")"
   ]
  },
  {
   "cell_type": "code",
   "execution_count": 32,
   "id": "fe0b3bab-58b7-4cef-ba36-da743445e2b1",
   "metadata": {},
   "outputs": [],
   "source": [
    "expression = \"LST / {}\".format(MAX)\n",
    "hazard = arcpy.ia.RasterCalculator(\n",
    "        expression=expression,\n",
    "        rasters=[LST],\n",
    "        input_names=[\"LST\"]\n",
    "    )\n",
    "hazard.save(r\"I:\\GIS_Lab\\Final\\LST_normalized.tif\")"
   ]
  },
  {
   "cell_type": "code",
   "execution_count": 33,
   "id": "add8d546-7e9d-4465-9c7e-ee38ddf45b55",
   "metadata": {},
   "outputs": [],
   "source": [
    "SVI = arcpy.Raster(r\"I:\\GIS_Lab\\Final\\SVI_Heat_10m.tif\")"
   ]
  },
  {
   "cell_type": "code",
   "execution_count": 34,
   "id": "339a5d3a-9715-4d1b-a08b-bb2d3d73e2be",
   "metadata": {},
   "outputs": [],
   "source": [
    "expression = \"hazard * SVI\"\n",
    "risk = arcpy.ia.RasterCalculator(\n",
    "        expression=expression,\n",
    "        rasters=[hazard, SVI],\n",
    "        input_names=[\"hazard\", \"SVI\"]\n",
    "    )\n",
    "risk.save(r\"I:\\GIS_Lab\\Final\\risk.tif\")"
   ]
  },
  {
   "cell_type": "code",
   "execution_count": null,
   "id": "81b9d6b0-c6da-4294-92e2-5db2f036fb3f",
   "metadata": {},
   "outputs": [],
   "source": []
  }
 ],
 "metadata": {
  "kernelspec": {
   "display_name": "Python 3 (ipykernel)",
   "language": "python",
   "name": "python3"
  },
  "language_info": {
   "codemirror_mode": {
    "name": "ipython",
    "version": 3
   },
   "file_extension": ".py",
   "mimetype": "text/x-python",
   "name": "python",
   "nbconvert_exporter": "python",
   "pygments_lexer": "ipython3",
   "version": "3.11.10"
  }
 },
 "nbformat": 4,
 "nbformat_minor": 5
}
