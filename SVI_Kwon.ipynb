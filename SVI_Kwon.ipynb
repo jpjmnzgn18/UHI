{
 "cells": [
  {
   "cell_type": "code",
   "execution_count": 1,
   "id": "37737ee8-c3e1-43bc-88d5-df5735b29b37",
   "metadata": {},
   "outputs": [],
   "source": [
    "import arcpy\n",
    "import os"
   ]
  },
  {
   "cell_type": "code",
   "execution_count": 3,
   "id": "f9557f11-5af3-479d-8a76-6af106dfe727",
   "metadata": {},
   "outputs": [
    {
     "name": "stdout",
     "output_type": "stream",
     "text": [
      "🔹 Iniciando reproyección y rasterización...\n",
      "✅ Shapefiles reproyectados.\n",
      "🔧 Extensión fijada a Shelby County: 197867.663030358 3875715.6571347 260830.485971837 3921826.41902268 NaN NaN NaN NaN\n",
      "🔧 Resolución fijada a 10 metro.\n",
      "✅ Rasterización completa. Raster guardados sin ponderación.\n",
      "🔹 Iniciando álgebra de mapas...\n",
      "🎯 Álgebra completada. Raster final guardado en: C:\\Users\\zmrplaza\\OneDrive - The University of Memphis\\Classes\\Spring 2025\\GIS Lab\\Project\\shapes\\Results\\SVI_Heat_10m.tif\n"
     ]
    }
   ],
   "source": [
    "# ===== 1. Configuración inicial =====\n",
    "input_folder = r\"C:\\Users\\zmrplaza\\OneDrive - The University of Memphis\\Classes\\Spring 2025\\GIS Lab\\Project\\shapes\"\n",
    "output_folder = os.path.join(input_folder, \"Results\")\n",
    "proj_folder = os.path.join(input_folder, \"Projected\")\n",
    "\n",
    "arcpy.env.overwriteOutput = True\n",
    "os.makedirs(output_folder, exist_ok=True)\n",
    "os.makedirs(proj_folder, exist_ok=True)\n",
    "\n",
    "# ===== 2. Datos =====\n",
    "shapefiles = [\"Shelby_County.shp\", \"chronic_normalized_tracts.shp\", \"pct_u5.shp\", \"Shelby_Renter_Percent.shp\"]\n",
    "value_fields = [\"RPL_THEMES\", \"ghlth_crud\", \"pct_u5\", \"pct_renter\"]\n",
    "raster_outputs = [\"r1.tif\", \"r2.tif\", \"r3.tif\", \"r4.tif\"]\n",
    "\n",
    "weights = [0.4125, 0.2626, 0.1625, 0.1625]\n",
    "\n",
    "# Proyección: UTM Zone 16N (metros)\n",
    "crs_target = arcpy.SpatialReference(26916)\n",
    "\n",
    "# =========================================\n",
    "# ETAPA 1: REPROYECTAR Y RASTERIZAR SIN PONDERACIÓN\n",
    "# =========================================\n",
    "\n",
    "print(\"🔹 Iniciando reproyección y rasterización...\")\n",
    "\n",
    "projected_shapefiles = []\n",
    "for shp in shapefiles:\n",
    "    in_shp = os.path.join(input_folder, shp)\n",
    "    out_shp = os.path.join(proj_folder, \"proj_\" + shp)\n",
    "    arcpy.management.Project(in_shp, out_shp, crs_target)\n",
    "    projected_shapefiles.append(out_shp)\n",
    "\n",
    "print(\"✅ Shapefiles reproyectados.\")\n",
    "\n",
    "# Definir extensión y resolución\n",
    "shelby_proj = projected_shapefiles[0]\n",
    "desc = arcpy.Describe(shelby_proj)\n",
    "arcpy.env.extent = desc.extent\n",
    "arcpy.env.cellSize = 10  # Resolución de 10 metros\n",
    "\n",
    "print(f\"🔧 Extensión fijada a Shelby County: {arcpy.env.extent}\")\n",
    "print(\"🔧 Resolución fijada a 10 metro.\")\n",
    "\n",
    "# Rasterizar cada shapefile sin aplicar pesos\n",
    "rasters_paths = []\n",
    "for shp, field, raster_name in zip(projected_shapefiles, value_fields, raster_outputs):\n",
    "    raster_path = os.path.join(output_folder, raster_name)\n",
    "    \n",
    "    arcpy.conversion.PolygonToRaster(\n",
    "        in_features=shp,\n",
    "        value_field=field,\n",
    "        out_rasterdataset=raster_path,\n",
    "        cell_assignment=\"MAXIMUM_COMBINED_AREA\"\n",
    "    )\n",
    "    rasters_paths.append(raster_path)\n",
    "\n",
    "print(\"✅ Rasterización completa. Raster guardados sin ponderación.\")\n",
    "\n",
    "# =========================================\n",
    "# ETAPA 2: ÁLGEBRA DE MAPAS CON PONDERACIÓN\n",
    "# =========================================\n",
    "\n",
    "print(\"🔹 Iniciando álgebra de mapas...\")\n",
    "\n",
    "# Leer los raster generados\n",
    "rasters = [arcpy.Raster(r) for r in rasters_paths]\n",
    "\n",
    "# Tratar NoData (convertimos solo los vacíos a 0)\n",
    "rasters_clean = [arcpy.sa.Con(arcpy.sa.IsNull(r), 0, r) for r in rasters]\n",
    "\n",
    "# Aplicar fórmula de ponderación\n",
    "svi_heat = sum(r * w for r, w in zip(rasters_clean, weights))\n",
    "\n",
    "# Guardar el raster final\n",
    "svi_output = os.path.join(output_folder, \"SVI_Heat_10m.tif\")\n",
    "svi_heat.save(svi_output)\n",
    "\n",
    "print(f\"🎯 Álgebra completada. Raster final guardado en: {svi_output}\")\n"
   ]
  }
 ],
 "metadata": {
  "kernelspec": {
   "display_name": "Python 3 (ipykernel)",
   "language": "python",
   "name": "python3"
  },
  "language_info": {
   "codemirror_mode": {
    "name": "ipython",
    "version": 3
   },
   "file_extension": ".py",
   "mimetype": "text/x-python",
   "name": "python",
   "nbconvert_exporter": "python",
   "pygments_lexer": "ipython3",
   "version": "3.11.10"
  }
 },
 "nbformat": 4,
 "nbformat_minor": 5
}
